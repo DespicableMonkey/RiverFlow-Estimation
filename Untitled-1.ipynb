{
 "cells": [
  {
   "cell_type": "code",
   "execution_count": null,
   "metadata": {},
   "outputs": [
    {
     "ename": "",
     "evalue": "",
     "output_type": "error",
     "traceback": [
      "\u001b[1;31mFailed to start the Kernel. \n",
      "\u001b[1;31mFailed to start Jupyter Server as the packages 'jupyter' and 'notebook' could not be located in the Python environment ' Python 3.11.4 64-bit (/opt/homebrew/bin/python3)'. \n",
      "\u001b[1;31mView Jupyter <a href='command:jupyter.viewOutput'>log</a> for further details."
     ]
    }
   ],
   "source": [
    "import h5py\n",
    "import os\n",
    "import sys\n",
    "import scipy.io\n",
    "import pandas as pd\n",
    "import numpy as np\n",
    "import matplotlib.pyplot as plt\n",
    "# import seaborn as sns\n",
    "from sklearn.model_selection import train_test_split\n",
    "from sklearn.linear_model import LinearRegression\n",
    "from sklearn.metrics import mean_squared_error, mean_absolute_error\n",
    "from sklearn import preprocessing\n",
    "from matplotlib.pyplot import figure\n",
    "    \n",
    "# # for file in os.listdir(directory):\n",
    "# #      filename = os.fsdecode(file)\n",
    "# #      if filename.endswith(\".mat\"):\n",
    "# #         print(file)\n",
    "# #         # f = h5py.File(directory + str(filename), 'r')\n",
    "# #         # print(f.keys())\n",
    "# #         break\n",
    "         \n",
    "\n",
    "# # print(sys.prefix)\n",
    "\n",
    "# # stream outflow, streaminflow, heightulti\n",
    "\n",
    "\n",
    "\n",
    "# cities = [ \"DragonKT\",\"DJKRes\",\"ThreeGRes\",\"chenglingji\",\"chenglingji7\",\"cuntan\",\"datong\",\"hankou\",\"hukou\",\"jiujiang\",\"maoping\",\"shashi\",\"wulong\",\"yichang\"]\n",
    "directory = \"/Users/pulkith/Desktop/Development/rivershit/river_flow\"\n",
    "# cities = [ \"DragonKT\",\"DJKRes\",\"ThreeGRes\",\"chenglingji\",\"chenglingji7\",\"cuntan\",\"datong\",\"hankou\",\"hukou\",\"jiujiang\",\"maoping\",\"shashi\",\"wulong\",\"yichang\"]\n",
    "cities = [\"cuntan\", \"wulong\", \"maoping\", \"ThreeGRes\", \"yichang\", \"shashi\", \"chenglingji\", \"chenglingji7\", \"DJKRes\", \"DragonKT\", \"hankou\", \"jiujiang\", \"hukou\", \"datong\"]\n",
    "# cuntan & wulong\n",
    "df = pd.DataFrame(columns=cities)\n",
    "\n",
    "\n",
    "# for subdir, dirs, files in os.walk(directory):\\\n",
    "#     for file in files:\n",
    "#         filepath = subdir + os.sep + file\n",
    "#         # print(filepath)\n",
    "#         if filepath.endswith(\".mat\"):\n",
    "#             mat = scipy.io.loadmat(filepath)\n",
    "#             arr = []\n",
    "#             for c in cities:\n",
    "#                 arr.append(mat[c][0][0])\n",
    "#             df.loc[len(df)] = arr\n",
    "# df.to_csv(\"/Users/pulkith/Desktop/Development/rivershit/data.csv\")\n",
    "\n",
    "\n",
    "\n",
    "df = pd.read_csv(\"/Users/pulkith/Desktop/Development/rivershit/data.csv\");\n",
    "# df = df.drop([\"DragonKT\", \"DJKRes\", \"ThreeGRes\", \"chenglingji\", \"maoping\"], axis=1)\n",
    "X_train = df.iloc[:, : 9]\n",
    "Y_train = df.iloc[:,9:10 ]\n",
    "\n",
    "height = 4\n",
    "\n",
    "fig, axes = plt.subplots(height, 1, figsize=(100, 5))\n",
    "\n",
    "df = df.iloc[2200:2700]\n",
    "# print(df)\n",
    "# # figure(figsize=(100, 5), dpi=100)\n",
    "axes[0].plot(df.iloc[:,0:1], df.iloc[:,5:6])\n",
    "axes[1].plot(df.iloc[:,0:1], df.iloc[:,6:7])\n",
    "axes[2].plot(df.iloc[:,0:1], df.iloc[:,8:9])\n",
    "axes[3].plot(df.iloc[:,0:1], df.iloc[:,11:12])\n",
    "\n",
    "for i in range(4):\n",
    "    axes[i].set_ylim([0, 20000])\n",
    "\n",
    "\n",
    "\n"
   ]
  }
 ],
 "metadata": {
  "kernelspec": {
   "display_name": "Python 3",
   "language": "python",
   "name": "python3"
  },
  "language_info": {
   "name": "python",
   "version": "3.11.4"
  },
  "orig_nbformat": 4,
  "vscode": {
   "interpreter": {
    "hash": "b0fa6594d8f4cbf19f97940f81e996739fb7646882a419484c72d19e05852a7e"
   }
  }
 },
 "nbformat": 4,
 "nbformat_minor": 2
}
